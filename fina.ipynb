{
 "cells": [
  {
   "cell_type": "code",
   "execution_count": 100,
   "metadata": {},
   "outputs": [],
   "source": [
    "import pandas as pd\n",
    "from langchain_ollama.llms import OllamaLLM\n",
    "df = pd.read_csv('./data/nordea_kiiski_2024.csv', sep=';')"
   ]
  },
  {
   "cell_type": "code",
   "execution_count": 101,
   "metadata": {},
   "outputs": [],
   "source": [
    "df = df.rename(columns={'Kirjauspäivä':'postdate', 'Määrä':'amount',\\\n",
    "                        'Maksaja':'from', 'Maksunsaaja':'to',\\\n",
    "                        'Nimi':'name', 'Otsikko':'desc',\\\n",
    "                        'Viitenumero':'ref', 'Saldo':'balance',\\\n",
    "                        'Valuutta':'curr'})"
   ]
  },
  {
   "cell_type": "code",
   "execution_count": 102,
   "metadata": {},
   "outputs": [],
   "source": [
    "df = df.drop(['postdate', 'from','to', 'ref'], axis=1)"
   ]
  },
  {
   "cell_type": "code",
   "execution_count": 103,
   "metadata": {},
   "outputs": [],
   "source": [
    "df['amount'] = df['amount'].str.replace(',', '.').astype(float)"
   ]
  },
  {
   "cell_type": "code",
   "execution_count": 104,
   "metadata": {},
   "outputs": [],
   "source": [
    "#df.shape\n",
    "df.drop(df.columns[-1],axis=1,inplace=True)"
   ]
  },
  {
   "cell_type": "code",
   "execution_count": 105,
   "metadata": {},
   "outputs": [
    {
     "data": {
      "text/html": [
       "<div>\n",
       "<style scoped>\n",
       "    .dataframe tbody tr th:only-of-type {\n",
       "        vertical-align: middle;\n",
       "    }\n",
       "\n",
       "    .dataframe tbody tr th {\n",
       "        vertical-align: top;\n",
       "    }\n",
       "\n",
       "    .dataframe thead th {\n",
       "        text-align: right;\n",
       "    }\n",
       "</style>\n",
       "<table border=\"1\" class=\"dataframe\">\n",
       "  <thead>\n",
       "    <tr style=\"text-align: right;\">\n",
       "      <th></th>\n",
       "      <th>amount</th>\n",
       "      <th>name</th>\n",
       "      <th>desc</th>\n",
       "      <th>balance</th>\n",
       "      <th>curr</th>\n",
       "    </tr>\n",
       "  </thead>\n",
       "  <tbody>\n",
       "    <tr>\n",
       "      <th>0</th>\n",
       "      <td>-44.00</td>\n",
       "      <td>Paytrail Oyj Musacorner Oy</td>\n",
       "      <td>Paytrail Oyj Musacorner Oy</td>\n",
       "      <td>277,81</td>\n",
       "      <td>EUR</td>\n",
       "    </tr>\n",
       "    <tr>\n",
       "      <th>1</th>\n",
       "      <td>-51.98</td>\n",
       "      <td>VERKKOKAUPPA.COM</td>\n",
       "      <td>VERKKOKAUPPA.COM</td>\n",
       "      <td>321,81</td>\n",
       "      <td>EUR</td>\n",
       "    </tr>\n",
       "    <tr>\n",
       "      <th>2</th>\n",
       "      <td>-11.27</td>\n",
       "      <td>Paytrail Oyj Ecolor Oy</td>\n",
       "      <td>Paytrail Oyj Ecolor Oy</td>\n",
       "      <td>373,79</td>\n",
       "      <td>EUR</td>\n",
       "    </tr>\n",
       "    <tr>\n",
       "      <th>3</th>\n",
       "      <td>-275.00</td>\n",
       "      <td>Paytrail Oyj wwwtiedekoulufi</td>\n",
       "      <td>Paytrail Oyj wwwtiedekoulufi</td>\n",
       "      <td>385,06</td>\n",
       "      <td>EUR</td>\n",
       "    </tr>\n",
       "  </tbody>\n",
       "</table>\n",
       "</div>"
      ],
      "text/plain": [
       "   amount                          name                          desc balance  \\\n",
       "0  -44.00    Paytrail Oyj Musacorner Oy    Paytrail Oyj Musacorner Oy  277,81   \n",
       "1  -51.98              VERKKOKAUPPA.COM              VERKKOKAUPPA.COM  321,81   \n",
       "2  -11.27        Paytrail Oyj Ecolor Oy        Paytrail Oyj Ecolor Oy  373,79   \n",
       "3 -275.00  Paytrail Oyj wwwtiedekoulufi  Paytrail Oyj wwwtiedekoulufi  385,06   \n",
       "\n",
       "  curr  \n",
       "0  EUR  \n",
       "1  EUR  \n",
       "2  EUR  \n",
       "3  EUR  "
      ]
     },
     "execution_count": 105,
     "metadata": {},
     "output_type": "execute_result"
    }
   ],
   "source": [
    "df.head(4)"
   ]
  },
  {
   "cell_type": "code",
   "execution_count": 106,
   "metadata": {},
   "outputs": [],
   "source": [
    "df_final = df.loc[:,['desc','amount']].loc[df['amount']<0]  "
   ]
  },
  {
   "cell_type": "code",
   "execution_count": 107,
   "metadata": {},
   "outputs": [
    {
     "data": {
      "text/html": [
       "<div>\n",
       "<style scoped>\n",
       "    .dataframe tbody tr th:only-of-type {\n",
       "        vertical-align: middle;\n",
       "    }\n",
       "\n",
       "    .dataframe tbody tr th {\n",
       "        vertical-align: top;\n",
       "    }\n",
       "\n",
       "    .dataframe thead th {\n",
       "        text-align: right;\n",
       "    }\n",
       "</style>\n",
       "<table border=\"1\" class=\"dataframe\">\n",
       "  <thead>\n",
       "    <tr style=\"text-align: right;\">\n",
       "      <th></th>\n",
       "      <th>desc</th>\n",
       "      <th>amount</th>\n",
       "    </tr>\n",
       "  </thead>\n",
       "  <tbody>\n",
       "    <tr>\n",
       "      <th>0</th>\n",
       "      <td>Paytrail Oyj Musacorner Oy</td>\n",
       "      <td>-44.00</td>\n",
       "    </tr>\n",
       "    <tr>\n",
       "      <th>1</th>\n",
       "      <td>VERKKOKAUPPA.COM</td>\n",
       "      <td>-51.98</td>\n",
       "    </tr>\n",
       "    <tr>\n",
       "      <th>2</th>\n",
       "      <td>Paytrail Oyj Ecolor Oy</td>\n",
       "      <td>-11.27</td>\n",
       "    </tr>\n",
       "  </tbody>\n",
       "</table>\n",
       "</div>"
      ],
      "text/plain": [
       "                         desc  amount\n",
       "0  Paytrail Oyj Musacorner Oy  -44.00\n",
       "1            VERKKOKAUPPA.COM  -51.98\n",
       "2      Paytrail Oyj Ecolor Oy  -11.27"
      ]
     },
     "execution_count": 107,
     "metadata": {},
     "output_type": "execute_result"
    }
   ],
   "source": [
    "df_final.head(3)"
   ]
  },
  {
   "cell_type": "code",
   "execution_count": 108,
   "metadata": {},
   "outputs": [],
   "source": [
    "llm = OllamaLLM(model='my-finamodel')"
   ]
  },
  {
   "cell_type": "code",
   "execution_count": 109,
   "metadata": {},
   "outputs": [
    {
     "name": "stderr",
     "output_type": "stream",
     "text": [
      "/tmp/ipykernel_11677/1973023598.py:10: FutureWarning: Series.__getitem__ treating keys as positions is deprecated. In a future version, integer keys will always be treated as labels (consistent with DataFrame behavior). To access a value by position, use `ser.iloc[pos]`\n",
      "  ltxt = str(line[0]) + ',' + str(line[1])\n"
     ]
    },
    {
     "name": "stdout",
     "output_type": "stream",
     "text": [
      "Processing lines 0 to 5\n"
     ]
    },
    {
     "name": "stderr",
     "output_type": "stream",
     "text": [
      "/tmp/ipykernel_11677/1973023598.py:10: FutureWarning: Series.__getitem__ treating keys as positions is deprecated. In a future version, integer keys will always be treated as labels (consistent with DataFrame behavior). To access a value by position, use `ser.iloc[pos]`\n",
      "  ltxt = str(line[0]) + ',' + str(line[1])\n"
     ]
    },
    {
     "name": "stdout",
     "output_type": "stream",
     "text": [
      "Processing lines 5 to 10\n"
     ]
    }
   ],
   "source": [
    "all_exp_df = pd.DataFrame()\n",
    "sample_size=10\n",
    "chunk_size=5\n",
    "#sample_size = len(df_final)\n",
    "full_output = ''\n",
    "for i in range(0,sample_size,chunk_size):\n",
    "    chunk = df_final.iloc[i:i+chunk_size,:] \n",
    "    input = \"\" \n",
    "    for idx, line in chunk.iterrows():\n",
    "        ltxt = str(line[0]) + ',' + str(line[1])\n",
    "        input = input + ltxt + '\\n'\n",
    "    print(f'Processing lines {i} to {i+chunk_size}')\n",
    "    output = llm.invoke(input)\n",
    "    full_output = full_output + '\\n' + output"
   ]
  },
  {
   "cell_type": "code",
   "execution_count": 110,
   "metadata": {},
   "outputs": [
    {
     "data": {
      "text/plain": [
       "['',\n",
       " '<h1>Example</h1>',\n",
       " '<h2>Input:</h2> ',\n",
       " 'Paytrail Oyj Musacorner Oy, -44.0',\n",
       " 'VERKKOKAUPPA.COM, -51.98',\n",
       " 'Paytrail Oyj Ecolor Oy, -11.27',\n",
       " 'Paytrail Oyj wwwtiedekoulufi, -275.0',\n",
       " 'Haukkasalon tiekunta lossitili, -37.0',\n",
       " 'NIITTUNIEMEN YKSITYISTIEN TIEK, -211.24, utilities',\n",
       " 'Vihreä Älyenergia Oy, -21.77, utilities',\n",
       " 'TALLELOKERO, -7.0, sirte',\n",
       " 'Asunto Oy Helsingin H, -561.15, housing',\n",
       " 'Vattenfall Oy, -107.55, utilities']"
      ]
     },
     "execution_count": 110,
     "metadata": {},
     "output_type": "execute_result"
    }
   ],
   "source": [
    "full_output.split('\\n')"
   ]
  },
  {
   "cell_type": "code",
   "execution_count": 111,
   "metadata": {},
   "outputs": [],
   "source": [
    "from pydantic import BaseModel, field_validator, ValidationError\n",
    "from typing import List\n",
    "class ValidResponseLine(BaseModel):\n",
    "    line: str\n",
    "\n",
    "    @field_validator('line')\n",
    "    def check(cls, value):\n",
    "        assert len(value.split(',')) ==3, 'No content or category'\n",
    "        return value\n"
   ]
  },
  {
   "cell_type": "code",
   "execution_count": 112,
   "metadata": {},
   "outputs": [],
   "source": [
    "l1 =[] \n",
    "for l in full_output.split('\\n'):\n",
    "    try:\n",
    "        ValidResponseLine(line=l)\n",
    "    except ValidationError:\n",
    "        continue\n",
    "    l2 = l.split(',')\n",
    "    l1.append(l2)"
   ]
  },
  {
   "cell_type": "code",
   "execution_count": 113,
   "metadata": {},
   "outputs": [
    {
     "data": {
      "text/plain": [
       "[['NIITTUNIEMEN YKSITYISTIEN TIEK', ' -211.24', ' utilities'],\n",
       " ['Vihreä Älyenergia Oy', ' -21.77', ' utilities'],\n",
       " ['TALLELOKERO', ' -7.0', ' sirte'],\n",
       " ['Asunto Oy Helsingin H', ' -561.15', ' housing'],\n",
       " ['Vattenfall Oy', ' -107.55', ' utilities']]"
      ]
     },
     "execution_count": 113,
     "metadata": {},
     "output_type": "execute_result"
    }
   ],
   "source": [
    "l1"
   ]
  },
  {
   "cell_type": "code",
   "execution_count": null,
   "metadata": {},
   "outputs": [],
   "source": []
  }
 ],
 "metadata": {
  "kernelspec": {
   "display_name": ".venv",
   "language": "python",
   "name": "python3"
  },
  "language_info": {
   "codemirror_mode": {
    "name": "ipython",
    "version": 3
   },
   "file_extension": ".py",
   "mimetype": "text/x-python",
   "name": "python",
   "nbconvert_exporter": "python",
   "pygments_lexer": "ipython3",
   "version": "3.12.3"
  }
 },
 "nbformat": 4,
 "nbformat_minor": 2
}
